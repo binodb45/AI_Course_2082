{
  "nbformat": 4,
  "nbformat_minor": 0,
  "metadata": {
    "colab": {
      "provenance": []
    },
    "kernelspec": {
      "name": "python3",
      "display_name": "Python 3"
    },
    "language_info": {
      "name": "python"
    }
  },
  "cells": [
    {
      "cell_type": "markdown",
      "source": [
        "#Linear Algebra for AI"
      ],
      "metadata": {
        "id": "w3QXZp5Btea3"
      }
    },
    {
      "cell_type": "markdown",
      "source": [
        "#Working with Scalers and Vectors"
      ],
      "metadata": {
        "id": "5FRlYHzkyZSg"
      }
    },
    {
      "cell_type": "code",
      "execution_count": null,
      "metadata": {
        "colab": {
          "base_uri": "https://localhost:8080/"
        },
        "id": "N7S28W1HtNdC",
        "outputId": "d682328e-3535-4134-f41a-92fa53268cd8"
      },
      "outputs": [
        {
          "output_type": "stream",
          "name": "stdout",
          "text": [
            "9\n",
            "[ 3  6  8 45 19]\n",
            "[ 27  54  72 405 171]\n"
          ]
        }
      ],
      "source": [
        "import numpy as np\n",
        "\n",
        "scalar = 9\n",
        "print(scalar)\n",
        "\n",
        "vector = np.array([3,6,8,45,19])\n",
        "print(vector)\n",
        "\n",
        "scaled_vector = scalar *vector\n",
        "print(scaled_vector)\n"
      ]
    },
    {
      "cell_type": "code",
      "source": [
        "vector = np.array([4,7,9,12,19])\n",
        "vector1 = np.array([5,8,9,11,34])\n",
        "\n",
        "scaled_vector = vector + vector1\n",
        "print(scaled_vector)"
      ],
      "metadata": {
        "colab": {
          "base_uri": "https://localhost:8080/"
        },
        "id": "MwSbTIiU0ATS",
        "outputId": "eb3c69d7-82d7-4b2e-de11-37d03682fbcc"
      },
      "execution_count": null,
      "outputs": [
        {
          "output_type": "stream",
          "name": "stdout",
          "text": [
            "[ 9 15 18 23 53]\n"
          ]
        }
      ]
    },
    {
      "cell_type": "markdown",
      "source": [
        "#Matric Creation and Simple Operation"
      ],
      "metadata": {
        "id": "Q2_BxMkL0j9P"
      }
    },
    {
      "cell_type": "code",
      "source": [
        "\n",
        "matrix1 = np.array([[1,2], [4,5]])\n",
        "matrix2 = np.array([[2,3], [6,7]])\n",
        "\n",
        "scaled_matrix = matrix1 + matrix2\n",
        "print(scaled_matrix)\n",
        "\n",
        "\n",
        "#Multiplication of matrix\n",
        "matrix1 = np.array([[7,4],\n",
        "                    [4,3]])\n",
        "matrix2 = np.array([[3,9],\n",
        "                    [6,6]])\n",
        "\n",
        "scaled_matrix = matrix1 * matrix2\n",
        "print(scaled_matrix)"
      ],
      "metadata": {
        "colab": {
          "base_uri": "https://localhost:8080/"
        },
        "id": "Yv-A7DBr0rrX",
        "outputId": "7db626b0-cc00-4d62-a0c9-719cc0c0122e"
      },
      "execution_count": null,
      "outputs": [
        {
          "output_type": "stream",
          "name": "stdout",
          "text": [
            "[[ 3  5]\n",
            " [10 12]]\n",
            "[[21 36]\n",
            " [24 18]]\n"
          ]
        }
      ]
    },
    {
      "cell_type": "code",
      "source": [
        "#Multiply 2 matrix\n",
        "\n",
        "matrix1 = np.array([[3,5], [6,4]])\n",
        "matrix2 = np.array([[3,7], [5,1]])\n",
        "\n",
        "matmal = np.dot(matrix1,matrix2)\n",
        "print(matmal)"
      ],
      "metadata": {
        "colab": {
          "base_uri": "https://localhost:8080/"
        },
        "id": "JGWEvHf_3Od1",
        "outputId": "33dfc1c7-3866-4e96-cee8-b5bcbfad2f03"
      },
      "execution_count": null,
      "outputs": [
        {
          "output_type": "stream",
          "name": "stdout",
          "text": [
            "[[34 26]\n",
            " [38 46]]\n"
          ]
        }
      ]
    },
    {
      "cell_type": "code",
      "source": [
        "#3/3 matrix\n",
        "\n",
        "matrix1 = np.array([[3,5,4], [6,4,9], [7,2,2]])\n",
        "matrix2 = np.array([[3,7,6], [5,1,2], [9,4,7]])\n",
        "\n",
        "matmal = np.dot(matrix1,matrix2)\n",
        "print(matmal)"
      ],
      "metadata": {
        "colab": {
          "base_uri": "https://localhost:8080/"
        },
        "id": "mVz_9z3Y4mU_",
        "outputId": "16d4a6c9-caa1-4008-ce41-518da420a4d1"
      },
      "execution_count": null,
      "outputs": [
        {
          "output_type": "stream",
          "name": "stdout",
          "text": [
            "[[ 70  42  56]\n",
            " [119  82 107]\n",
            " [ 49  59  60]]\n"
          ]
        }
      ]
    },
    {
      "cell_type": "code",
      "source": [
        "A = np.array([[3,5], [6,4]])\n",
        "\n",
        "B = np.array([[3,7], [5,1]])\n",
        "\n",
        "\n",
        "index_A = A[0,0] * B[0,0] + A[0,1] * B[1,0]\n",
        "index_B = A[0,0] * B[0,1] + A[0,1] * B[1,1]\n",
        "index_C = A[1,0] * B[0,0] + A[1,1] * B[1,0]\n",
        "index_D = A[1,0] * B[0,1] + A[1,1] * B[1,1]\n",
        "\n",
        "\n",
        "print(index_A)\n",
        "print(index_B)\n",
        "print(index_C)\n",
        "print(index_D)\n",
        "\n",
        "matmal = np.dot(A,B)\n",
        "print(matmal)"
      ],
      "metadata": {
        "colab": {
          "base_uri": "https://localhost:8080/"
        },
        "id": "Wmk0JNfg7Ju3",
        "outputId": "908a3bb0-6782-4c43-c06f-82f0298a0c1f"
      },
      "execution_count": null,
      "outputs": [
        {
          "output_type": "stream",
          "name": "stdout",
          "text": [
            "34\n",
            "26\n",
            "38\n",
            "46\n",
            "[[34 26]\n",
            " [38 46]]\n"
          ]
        }
      ]
    }
  ]
}