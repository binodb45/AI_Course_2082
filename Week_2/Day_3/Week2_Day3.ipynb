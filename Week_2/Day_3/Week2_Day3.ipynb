{
  "nbformat": 4,
  "nbformat_minor": 0,
  "metadata": {
    "colab": {
      "provenance": []
    },
    "kernelspec": {
      "name": "python3",
      "display_name": "Python 3"
    },
    "language_info": {
      "name": "python"
    }
  },
  "cells": [
    {
      "cell_type": "markdown",
      "source": [
        "#Probability in AI"
      ],
      "metadata": {
        "id": "EEuWrl3b-DVL"
      }
    },
    {
      "cell_type": "code",
      "execution_count": null,
      "metadata": {
        "colab": {
          "base_uri": "https://localhost:8080/"
        },
        "id": "Lahv1HfK99p7",
        "outputId": "61b1e843-8bd7-4605-9302-6ce0bc0415d5"
      },
      "outputs": [
        {
          "output_type": "stream",
          "name": "stdout",
          "text": [
            "P(heads): 0.5\n",
            "P(1): 0.16666666666666666\n",
            "P(red): 0.5\n"
          ]
        }
      ],
      "source": [
        "#Pribability of getting head/tail from a fair coin\n",
        "p_head = 1/2\n",
        "print(\"P(heads):\", p_head)\n",
        "\n",
        "\n",
        "\n",
        "#Declearing fav and total outcone for rolling 1 on a dice\n",
        "favourable_outcome = 1\n",
        "total_outcome = 6\n",
        "\n",
        "probability = favourable_outcome/total_outcome\n",
        "print(\"P(1):\", probability)\n",
        "\n",
        "\n",
        "\n",
        "#Calculate the theoritical probability of drawing red card from a standred deck of 52 cards\n",
        "p_red = 26/52\n",
        "print(\"P(red):\", p_red)"
      ]
    },
    {
      "cell_type": "markdown",
      "source": [
        "#Experimental Probability"
      ],
      "metadata": {
        "id": "YX_iQhX4FSeC"
      }
    },
    {
      "cell_type": "code",
      "source": [
        "import random\n",
        "\n",
        "trials = 100\n",
        "heads = 0\n",
        "\n",
        "for _ in range(trials):\n",
        "  if random.choice([\"Heads\", \"Tails\"]) == \"Heads\": heads+= 1\n",
        "probability = heads/trials\n",
        "print(probability)"
      ],
      "metadata": {
        "colab": {
          "base_uri": "https://localhost:8080/"
        },
        "id": "u6okF3IHDmN1",
        "outputId": "ffe6072e-a403-485f-f7be-b2e947653789"
      },
      "execution_count": null,
      "outputs": [
        {
          "output_type": "stream",
          "name": "stdout",
          "text": [
            "0.47\n"
          ]
        }
      ]
    },
    {
      "cell_type": "markdown",
      "source": [
        "#Conditional Probability"
      ],
      "metadata": {
        "id": "gOYJ5EdTFmaI"
      }
    },
    {
      "cell_type": "code",
      "source": [
        "face_cards = 12\n",
        "king = 4\n",
        "cond_prob = king/face_cards\n",
        "print(\"Probability of getting a king in a face cards is:\", cond_prob)"
      ],
      "metadata": {
        "colab": {
          "base_uri": "https://localhost:8080/"
        },
        "id": "5Ms48o6SFOay",
        "outputId": "429cda69-d520-4ed8-f120-71b89f23ba5f"
      },
      "execution_count": null,
      "outputs": [
        {
          "output_type": "stream",
          "name": "stdout",
          "text": [
            "Probability of getting a king in a face cards is: 0.3333333333333333\n"
          ]
        }
      ]
    },
    {
      "cell_type": "markdown",
      "source": [
        "#Addition Rule"
      ],
      "metadata": {
        "id": "Q8KuY4VuGi1r"
      }
    },
    {
      "cell_type": "code",
      "source": [
        "#mutually exclusive events\n",
        "\n",
        "prob_even = 3/6\n",
        "prob_one = 1/6\n",
        "\n",
        "prob_even_or_one = prob_even + prob_one\n",
        "\n",
        "print(prob_even_or_one)"
      ],
      "metadata": {
        "colab": {
          "base_uri": "https://localhost:8080/"
        },
        "id": "AQSbpuCOGlS-",
        "outputId": "d7cf407d-8011-4839-92c6-44b9d5c34711"
      },
      "execution_count": null,
      "outputs": [
        {
          "output_type": "stream",
          "name": "stdout",
          "text": [
            "0.6666666666666666\n"
          ]
        }
      ]
    },
    {
      "cell_type": "markdown",
      "source": [
        "#Multiplication Rule(Independent)"
      ],
      "metadata": {
        "id": "1Bu_8AK1HNnn"
      }
    },
    {
      "cell_type": "code",
      "source": [
        "#Probability of getting heads in one flip\n",
        "prob_head = 0.5\n",
        "\n",
        "#probability of getting two heads in two flips\n",
        "prob_two_heads = prob_head * prob_head\n",
        "\n",
        "\n",
        "print(\"Probability of getting two heads:\", prob_two_heads)"
      ],
      "metadata": {
        "id": "wccuLapxHUUD"
      },
      "execution_count": null,
      "outputs": []
    },
    {
      "cell_type": "markdown",
      "source": [
        "#Dependent"
      ],
      "metadata": {
        "id": "2TQm2-W8IFpZ"
      }
    },
    {
      "cell_type": "code",
      "source": [
        "total_cards = 52\n",
        "ace_cards = 12\n",
        "prob_first_ace = ace_cards / total_cards\n",
        "prob_second_ace = (ace_cards - 1) / (total_cards - 1)\n",
        "prob_two_aces = prob_first_ace * prob_second_ace\n",
        "print(prob_two_aces)\n",
        "\n",
        "total_cards = 52\n",
        "red_cards = 26\n",
        "prob_first_ace = red_cards / total_cards\n",
        "prob_second_ace = (red_cards - 1) / (total_cards - 1)\n",
        "prob_two_aces = prob_first_ace * prob_second_ace\n",
        "print(prob_two_aces)"
      ],
      "metadata": {
        "colab": {
          "base_uri": "https://localhost:8080/"
        },
        "id": "e3qPhVk4IIsV",
        "outputId": "8642e5da-ab3e-4b0e-aaee-20669bf14e58"
      },
      "execution_count": null,
      "outputs": [
        {
          "output_type": "stream",
          "name": "stdout",
          "text": [
            "0.0497737556561086\n",
            "0.24509803921568626\n"
          ]
        }
      ]
    }
  ]
}