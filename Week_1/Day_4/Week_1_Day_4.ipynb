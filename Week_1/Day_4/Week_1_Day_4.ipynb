{
  "nbformat": 4,
  "nbformat_minor": 0,
  "metadata": {
    "colab": {
      "provenance": []
    },
    "kernelspec": {
      "name": "python3",
      "display_name": "Python 3"
    },
    "language_info": {
      "name": "python"
    }
  },
  "cells": [
    {
      "cell_type": "markdown",
      "source": [
        "#File Handling and Exception"
      ],
      "metadata": {
        "id": "TDlemJk84J5L"
      }
    },
    {
      "cell_type": "markdown",
      "source": [
        "Opening and Reading File"
      ],
      "metadata": {
        "id": "bxOJ5Ygi4T01"
      }
    },
    {
      "cell_type": "code",
      "execution_count": null,
      "metadata": {
        "colab": {
          "base_uri": "https://localhost:8080/"
        },
        "id": "APWDSvqW32Xr",
        "outputId": "43bf335f-6597-45cf-eca0-88370deff592"
      },
      "outputs": [
        {
          "output_type": "stream",
          "name": "stdout",
          "text": [
            "My name is Binod\n",
            "I am learning AI\n"
          ]
        }
      ],
      "source": [
        "f = open(\"/content/sample_data/file.txt\",\"r\")\n",
        "print(f.read())\n",
        "\n"
      ]
    },
    {
      "cell_type": "code",
      "source": [
        "f = open(\"/content/sample_data/file.txt\",\"r\")\n",
        "print(f.readline())"
      ],
      "metadata": {
        "colab": {
          "base_uri": "https://localhost:8080/"
        },
        "id": "yxvqg3pB5o3R",
        "outputId": "4c69b4da-f878-41fa-d2a0-a286cf1954ff"
      },
      "execution_count": null,
      "outputs": [
        {
          "output_type": "stream",
          "name": "stdout",
          "text": [
            "My name is Binod\n",
            "\n"
          ]
        }
      ]
    },
    {
      "cell_type": "code",
      "source": [
        "f = open(\"/content/sample_data/file.txt\",\"r\")\n",
        "print(f.readlines())"
      ],
      "metadata": {
        "colab": {
          "base_uri": "https://localhost:8080/"
        },
        "id": "w-wMmJi66QCj",
        "outputId": "12fd4938-7f92-40e9-a7fe-f7f82fd024fa"
      },
      "execution_count": null,
      "outputs": [
        {
          "output_type": "stream",
          "name": "stdout",
          "text": [
            "['My name is Binod\\n', 'I am learning AI']\n"
          ]
        }
      ]
    },
    {
      "cell_type": "code",
      "source": [
        "f = open(\"/content/sample_data/file.txt\",\"r\")\n",
        "print(f.read())\n",
        "f.close()"
      ],
      "metadata": {
        "colab": {
          "base_uri": "https://localhost:8080/"
        },
        "id": "bL3VUkmI6Zgl",
        "outputId": "0f69fde0-dbcb-4eae-afe3-a3c11d3694f7"
      },
      "execution_count": null,
      "outputs": [
        {
          "output_type": "stream",
          "name": "stdout",
          "text": [
            "My name is Binod\n",
            "I am learning AI\n"
          ]
        }
      ]
    },
    {
      "cell_type": "code",
      "source": [
        "with open(\"/content/sample_data/file.txt\", \"r\") as f:\n",
        "  print(f.read())"
      ],
      "metadata": {
        "colab": {
          "base_uri": "https://localhost:8080/"
        },
        "id": "bwoL2rBj6h87",
        "outputId": "6442096d-4f31-4314-fdf1-fc4d91faaa81"
      },
      "execution_count": null,
      "outputs": [
        {
          "output_type": "stream",
          "name": "stdout",
          "text": [
            "My name is Binod\n",
            "I am learning AI\n"
          ]
        }
      ]
    },
    {
      "cell_type": "markdown",
      "source": [
        "Write Mode"
      ],
      "metadata": {
        "id": "-5t4CCfv606J"
      }
    },
    {
      "cell_type": "code",
      "source": [
        "f = open(\"/content/sample_data/file.txt\",\"w\")\n",
        "f.write(\"I JUSt WROTE\")\n",
        "f.close()"
      ],
      "metadata": {
        "id": "IrBmFDXT62uB"
      },
      "execution_count": null,
      "outputs": []
    },
    {
      "cell_type": "markdown",
      "source": [
        "#Basic Exception Handling CW"
      ],
      "metadata": {
        "id": "4pdUWtuG9Xat"
      }
    },
    {
      "cell_type": "code",
      "source": [
        "\n",
        "try:\n",
        "  print(a)\n",
        "except NameError:\n",
        "  print(\"Name error here\")"
      ],
      "metadata": {
        "colab": {
          "base_uri": "https://localhost:8080/"
        },
        "id": "iHm2t-0MEHly",
        "outputId": "d2773989-5072-4413-d617-e22301846f8e"
      },
      "execution_count": null,
      "outputs": [
        {
          "output_type": "stream",
          "name": "stdout",
          "text": [
            "Name error here\n"
          ]
        }
      ]
    },
    {
      "cell_type": "markdown",
      "source": [
        "Q1 Reading a File"
      ],
      "metadata": {
        "id": "9ZnWmjfODOZ7"
      }
    },
    {
      "cell_type": "markdown",
      "source": [
        "Q2. Writing a File"
      ],
      "metadata": {
        "id": "GnhNCVwl-DsT"
      }
    },
    {
      "cell_type": "code",
      "source": [
        "try:\n",
        "  name = input(\"Enter your name: \")\n",
        "  file = open(\"user.txt\", \"w\")\n",
        "  file.write(name)\n",
        "  file.close()\n",
        "\n",
        "  print(\"Your name was saved successfully!\")\n",
        "except:\n",
        "  print(\"An error occoured while writing your name\")\n"
      ],
      "metadata": {
        "colab": {
          "base_uri": "https://localhost:8080/"
        },
        "id": "FIccz4HP9ghc",
        "outputId": "10eadd47-56ab-4bca-936e-14fd7a8124da"
      },
      "execution_count": null,
      "outputs": [
        {
          "output_type": "stream",
          "name": "stdout",
          "text": [
            "Enter your name: binod bhatt\n",
            "Your name was saved successfully!\n"
          ]
        }
      ]
    }
  ]
}