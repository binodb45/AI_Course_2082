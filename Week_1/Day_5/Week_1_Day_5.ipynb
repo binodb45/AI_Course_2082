{
  "nbformat": 4,
  "nbformat_minor": 0,
  "metadata": {
    "colab": {
      "provenance": []
    },
    "kernelspec": {
      "name": "python3",
      "display_name": "Python 3"
    },
    "language_info": {
      "name": "python"
    }
  },
  "cells": [
    {
      "cell_type": "markdown",
      "source": [
        "#Numbpy Basics"
      ],
      "metadata": {
        "id": "LfbKWcyY4Tjc"
      }
    },
    {
      "cell_type": "markdown",
      "source": [
        "Creating a Numpy Arrey and Its Attributes"
      ],
      "metadata": {
        "id": "yNMswpGC4ZKh"
      }
    },
    {
      "cell_type": "code",
      "execution_count": null,
      "metadata": {
        "colab": {
          "base_uri": "https://localhost:8080/"
        },
        "id": "m5v7ZNCv4MXe",
        "outputId": "89b83bc2-997e-46fa-8b4f-3db2472cd3d8"
      },
      "outputs": [
        {
          "output_type": "stream",
          "name": "stdout",
          "text": [
            "[1 2 3 4 5]\n",
            "42\n",
            "[1 2 3 4 5]\n",
            "[[1 2 3]\n",
            " [4 5 6]]\n",
            "[[ 1  2  3]\n",
            " [ 4  5  6]\n",
            " [ 7  8  9]\n",
            " [10 11 12]]\n"
          ]
        }
      ],
      "source": [
        "#importing numpy librery\n",
        "import numpy as np\n",
        "\n",
        "#creating a list\n",
        "my_list = [1, 2, 3, 4, 5]\n",
        "#changing the list into a 1-D numpy array\n",
        "my_array = np.array(my_list)\n",
        "\n",
        "print(my_array)\n",
        "\n",
        "\n",
        "#creating a 0-D numpy array\n",
        "zero_array = np.array(42)\n",
        "print(zero_array)\n",
        "\n",
        "#In1stead a creating alist on aseperate variable we can directly pass a list to .arry()function like this\n",
        "my_array = np. array([1,2,3,4,5])\n",
        "\n",
        "#Printing a 1-D numpy arry\n",
        "print(my_array)\n",
        "\n",
        "\n",
        "#Lets create a 2-D array!\n",
        "two_d_array = np.array([[1,2,3],[4,5,6]])\n",
        "#Printing a 2d numpy array\n",
        "print(two_d_array)\n",
        "\n",
        "#Lets create a 3-D array!\n",
        "three_d_array = np.array([[1,2,3],[4,5,6],[7,8,9],[10,11,12]])\n",
        "#Printing a 3d numpy array\n",
        "print(three_d_array)\n"
      ]
    },
    {
      "cell_type": "code",
      "source": [
        "#Lets create an array and aee its attribures\n",
        "my_array = np.array([[1,2,3],[4,5,6]])\n",
        "print(my_array)     #Printing a array\n",
        "print(my_array.ndim)    #Printing a dimension of array\n",
        "print(my_array.shape)   #Printing a shape of array\n",
        "print(my_array.size)    #Printing a size of array\n",
        "print(my_array.dtype)   #Printing a type of the array"
      ],
      "metadata": {
        "colab": {
          "base_uri": "https://localhost:8080/"
        },
        "id": "8npD7oSQ7Tk9",
        "outputId": "316c8210-5f4f-4fb8-9d6e-7fa395168877"
      },
      "execution_count": null,
      "outputs": [
        {
          "output_type": "stream",
          "name": "stdout",
          "text": [
            "[[1 2 3]\n",
            " [4 5 6]]\n",
            "2\n",
            "(2, 3)\n",
            "6\n",
            "int64\n"
          ]
        }
      ]
    },
    {
      "cell_type": "markdown",
      "source": [
        "Accessing and manipulating array elements"
      ],
      "metadata": {
        "id": "FZ0xmXEw9EhJ"
      }
    },
    {
      "cell_type": "code",
      "source": [
        "#Lets create a 1D array and print one of its elements\n",
        "one_arr = np.array([1,2,3,4,5,6])\n",
        "# To access an element, use square brackets [] with the index inside.\n",
        "print(one_arr[4])\n",
        "\n",
        "#Lets print using negetive indexing\n",
        "print(one_arr[-2])\n",
        "\n",
        "\n",
        "#Lets do for 2D array\n",
        "two_arr = np.array([[1,2,3],[4,5,6]])\n",
        "print(two_arr[1,2])\n",
        "\n",
        "#Lets move to a 3D array\n",
        "three_arr = np.array([[[1,2,3],[4,5,6]],[[7,8,9],[10,11,12]]])\n",
        "print(three_arr[1,1,2])\n",
        "print(three_arr[1,0,0])"
      ],
      "metadata": {
        "colab": {
          "base_uri": "https://localhost:8080/"
        },
        "id": "Z8-RNX1b9KYN",
        "outputId": "59796e76-e83b-4ad1-8688-f86a2370f4f5"
      },
      "execution_count": null,
      "outputs": [
        {
          "output_type": "stream",
          "name": "stdout",
          "text": [
            "5\n",
            "5\n",
            "6\n",
            "12\n",
            "7\n"
          ]
        }
      ]
    },
    {
      "cell_type": "markdown",
      "source": [
        "SLICING ARRAYS"
      ],
      "metadata": {
        "id": "WTeNwE_DA11J"
      }
    },
    {
      "cell_type": "markdown",
      "source": [
        "###Some important slicing concepts\n",
        "array[start:end]\n",
        "\n",
        "array[start:end:steps]"
      ],
      "metadata": {
        "id": "aiFVmLjLBw2v"
      }
    },
    {
      "cell_type": "code",
      "source": [
        "#slicing arrays from 0th to 8th index\n",
        "my_array = np.array([1,2,3,4,5,6,7,8,9,10]) #1-D array\n",
        "print(my_array[0:8])\n",
        "print(my_array[3:9])\n",
        "\n",
        "#Slicing with steps\n",
        "my_new_array = np.array([1,2,3,4,5,6,7,8,9,10])\n",
        "print(my_new_array[0:9:2])\n",
        "print(my_new_array[0:9:3])\n",
        "\n",
        "\n",
        "#Slicing on a 2-D array\n",
        "my_two_d = np.array([[1,2,3,4,5,6,7,8,9],[10,11,12,13,14,15,16,17,18]])\n",
        "print(my_two_d[1,0:6])\n",
        "print(my_two_d[0,3:6])\n"
      ],
      "metadata": {
        "colab": {
          "base_uri": "https://localhost:8080/"
        },
        "id": "jJCM8KQzA5pN",
        "outputId": "274d889f-cf5d-4eaa-e309-6acbfb13f255"
      },
      "execution_count": null,
      "outputs": [
        {
          "output_type": "stream",
          "name": "stdout",
          "text": [
            "[1 2 3 4 5 6 7 8]\n",
            "[4 5 6 7 8 9]\n",
            "[1 3 5 7 9]\n",
            "[1 4 7]\n",
            "[10 11 12 13 14 15]\n",
            "[4 5 6]\n"
          ]
        }
      ]
    },
    {
      "cell_type": "markdown",
      "source": [
        "#CLASSWORK"
      ],
      "metadata": {
        "id": "knvEwdhKEiF3"
      }
    },
    {
      "cell_type": "code",
      "source": [
        "#create the array QN.1\n",
        "my_list = np.array([7,14,21,28])\n",
        "print(my_list)\n",
        "\n",
        "#QN.2\n",
        "two_d_array = np.array([[5,10,15],[20,25,30]])\n",
        "print(two_d_array.shape)\n",
        "# Correcting the print statement to access .ndim on the array first\n",
        "print(two_d_array.ndim)\n",
        "\n",
        "\n",
        "\n",
        "#QN.3. create 2D arrays of zeros with shape\n",
        "zeros_array = np.zeros((2,3))\n",
        "print(zeros_array)\n",
        "\n",
        "#creating array from 0 to 12 with step of three\n",
        "my_array = np.arange(0,12,3)\n",
        "print(my_array)\n",
        "\n",
        "\n",
        "#QN.4 Create nympy array and multiply it by 3\n",
        "array = np.array([2,4,6,8,10])\n",
        "result = array * 3\n",
        "print(result)\n",
        "\n",
        "#QN. 5 create numpy array print third element and slice from index 1 to 3\n",
        "my_array = np.array([1,3,5,7,9,11])\n",
        "print(my_array[2])\n",
        "print(my_array[1:4])\n"
      ],
      "metadata": {
        "colab": {
          "base_uri": "https://localhost:8080/"
        },
        "id": "nnifqrmSEksA",
        "outputId": "413d4d01-f1ce-4bd7-94be-b7fd1add46db"
      },
      "execution_count": null,
      "outputs": [
        {
          "output_type": "stream",
          "name": "stdout",
          "text": [
            "[ 7 14 21 28]\n",
            "(2, 3)\n",
            "2\n",
            "[[0. 0. 0.]\n",
            " [0. 0. 0.]]\n",
            "[0 3 6 9]\n",
            "[ 6 12 18 24 30]\n",
            "5\n",
            "[3 5 7]\n"
          ]
        }
      ]
    },
    {
      "cell_type": "markdown",
      "source": [
        "H.W. - experiment with 3D SLICING"
      ],
      "metadata": {
        "id": "ZDk9cypKFNMO"
      }
    },
    {
      "cell_type": "code",
      "source": [
        "#create 1D array from 2 to 10 (inclusive)\n",
        "array = np.arange(2, 11)\n",
        "\n",
        "#add 5 - each element\n",
        "result = array + 5\n",
        "print(result)\n",
        "\n",
        "\n",
        "\n",
        "#create 2-Darray\n",
        "two_d_array = np.array([[1, 3, 5], [2, 4, 6]])\n",
        "first_row = two_d_array[0]\n",
        "\n",
        "print(\"First row:\", first_row)\n",
        "print(\"Sum of first row:\", row_sum)"
      ],
      "metadata": {
        "id": "liPYUeX7FkVI",
        "colab": {
          "base_uri": "https://localhost:8080/"
        },
        "outputId": "6d262c6f-d2cd-4f1a-9308-5c2411832888"
      },
      "execution_count": null,
      "outputs": [
        {
          "output_type": "stream",
          "name": "stdout",
          "text": [
            "[ 7  8  9 10 11 12 13 14 15]\n",
            "First row: [1 3 5]\n",
            "Sum of first row: 9\n"
          ]
        }
      ]
    }
  ]
}